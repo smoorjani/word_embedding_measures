{
 "cells": [
  {
   "cell_type": "code",
   "execution_count": 3,
   "id": "9dd25932",
   "metadata": {},
   "outputs": [
    {
     "name": "stderr",
     "output_type": "stream",
     "text": [
      "[nltk_data] Downloading package punkt to /home/smoorjani/nltk_data...\n",
      "[nltk_data]   Package punkt is already up-to-date!\n",
      "[nltk_data] Downloading package wordnet to\n",
      "[nltk_data]     /home/smoorjani/nltk_data...\n",
      "[nltk_data]   Package wordnet is already up-to-date!\n",
      "[nltk_data] Downloading package stopwords to\n",
      "[nltk_data]     /home/smoorjani/nltk_data...\n",
      "[nltk_data]   Package stopwords is already up-to-date!\n",
      "[nltk_data] Downloading package omw-1.4 to\n",
      "[nltk_data]     /home/smoorjani/nltk_data...\n",
      "[nltk_data]   Package omw-1.4 is already up-to-date!\n"
     ]
    }
   ],
   "source": [
    "%load_ext autoreload\n",
    "%autoreload 2\n",
    "from utils.data import load_data, get_word_tokenized_corpus, get_data_property, get_data_chunks\n",
    "from utils.embeddings import train_fasttext_embedding, get_chunk_embeddings, save_fasttext, load_fasttext\n",
    "from utils.features import get_speed, get_volume, get_circuitousness\n",
    "from main import setup_chunk_embeddings, setup"
   ]
  },
  {
   "cell_type": "code",
   "execution_count": 4,
   "id": "c2ede92d",
   "metadata": {},
   "outputs": [],
   "source": [
    "%reload_ext autoreload"
   ]
  },
  {
   "cell_type": "code",
   "execution_count": 5,
   "id": "2e4b703e",
   "metadata": {},
   "outputs": [],
   "source": [
    "import nltk\n",
    "from nltk.stem import WordNetLemmatizer\n",
    "from nltk.corpus import stopwords"
   ]
  },
  {
   "cell_type": "code",
   "execution_count": 6,
   "id": "755ba897",
   "metadata": {},
   "outputs": [],
   "source": [
    "import glob\n",
    "import numpy as np\n",
    "import pandas as pd\n",
    "from os.path import exists\n",
    "from sklearn.linear_model import Lasso"
   ]
  },
  {
   "cell_type": "code",
   "execution_count": 31,
   "id": "5f63be76",
   "metadata": {},
   "outputs": [
    {
     "name": "stdout",
     "output_type": "stream",
     "text": [
      "Loading data...\n",
      "Retrieving model...\n",
      "Training model...\n",
      "Chunking abstracts...\n"
     ]
    }
   ],
   "source": [
    "# Train Model\n",
    "class Args:\n",
    "#     model_name = 'fasttext_model/ft_model.model'\n",
    "    model_name = 'fasttext_model/cc.en.300.bin'\n",
    "    data_file = 'data/dblp-ref-0.json'\n",
    "    chunk_embs_file = 'none'\n",
    "    proj_dir = './saved/'\n",
    "    limit = 30000\n",
    "    T = 20\n",
    "    train_model = True\n",
    "\n",
    "args=Args()\n",
    "\n",
    "ft_model, abstracts, citation_counts = setup(args)\n",
    "chunk_embs = setup_chunk_embeddings(args, ft_model, abstracts)"
   ]
  },
  {
   "cell_type": "code",
   "execution_count": 17,
   "id": "a10d4b35",
   "metadata": {},
   "outputs": [],
   "source": [
    "# SET THIS FLAG IF IMPORTING EMBS FROM MATLAB\n",
    "from_MATLAB = False\n",
    "\n",
    "# Load Chunks\n",
    "class Args:\n",
    "    model_name = 'fasttext_model/cc.en.300.bin'\n",
    "    data_file = 'data/dblp-ref-0.json'\n",
    "    chunk_embs_file = 'data/chunk_embs.txt'\n",
    "    proj_dir = './saved/'\n",
    "    limit = 30000\n",
    "    T = 20\n",
    "    train_model = False\n",
    "\n",
    "args=Args()"
   ]
  },
  {
   "cell_type": "code",
   "execution_count": 19,
   "id": "321f1e30",
   "metadata": {},
   "outputs": [
    {
     "name": "stdout",
     "output_type": "stream",
     "text": [
      "Loading chunk embeddings...\n"
     ]
    }
   ],
   "source": [
    "if from_MATLAB:\n",
    "    df = pd.read_table('./saved/data/toubia_embs.txt', dtype=float, header=None, sep=',').fillna(0).values\n",
    "    chunk_embs = [np.trim_zeros(df[i], 'b').reshape(300,-1).transpose() for i in range(len(df))]\n",
    "else:\n",
    "    chunk_embs = setup_chunk_embeddings(args, None, None)"
   ]
  },
  {
   "cell_type": "code",
   "execution_count": 32,
   "id": "73d7ccdf",
   "metadata": {},
   "outputs": [],
   "source": [
    "data = load_data(args)\n",
    "abstracts = get_data_property(data, \"abstract\")\n",
    "citation_counts = get_data_property(data, \"n_citation\")"
   ]
  },
  {
   "cell_type": "code",
   "execution_count": 33,
   "id": "639142b0",
   "metadata": {},
   "outputs": [
    {
     "name": "stderr",
     "output_type": "stream",
     "text": [
      "/home/smoorjani/word_embedding_measures/utils/algs.py:62: RuntimeWarning: invalid value encountered in double_scalars\n",
      "  step_size = (maximum - d - 1.0) / ((d + 1.0) * (maximum - 1.0))\n",
      "/home/smoorjani/anaconda3/lib/python3.8/site-packages/scipy/stats/stats.py:411: RuntimeWarning: Mean of empty slice.\n",
      "  return np.exp(log_a.mean(axis=axis))\n",
      "/home/smoorjani/anaconda3/lib/python3.8/site-packages/numpy/core/_methods.py:188: RuntimeWarning: invalid value encountered in double_scalars\n",
      "  ret = ret.dtype.type(ret / rcount)\n"
     ]
    }
   ],
   "source": [
    "features = {}\n",
    "features['speed'] = [get_speed(chunk_emb)[-1] for chunk_emb in chunk_embs]\n",
    "# features['circuitousness'] = [get_circuitousness(chunk_emb) for chunk_emb in chunk_embs]\n",
    "features['volume'] = [get_volume(chunk_emb) for chunk_emb in chunk_embs]"
   ]
  },
  {
   "cell_type": "code",
   "execution_count": 34,
   "id": "67daeb0f",
   "metadata": {},
   "outputs": [
    {
     "name": "stdout",
     "output_type": "stream",
     "text": [
      "Getting coefficients...\n",
      "speed coeff [-0.00063021]\n",
      "volume coeff [-0.00010053]\n"
     ]
    }
   ],
   "source": [
    "print('Getting coefficients...')\n",
    "for key, value in features.items():\n",
    "    clf = Lasso(alpha=0.1)\n",
    "    nan_vals = np.argwhere(np.isnan(features['volume']))\n",
    "    \n",
    "    clf.fit(np.delete(np.array(citation_counts), nan_vals).reshape(-1, 1), np.delete(value, nan_vals))\n",
    "    print(f'{key} coeff {clf.coef_}')"
   ]
  },
  {
   "cell_type": "markdown",
   "id": "3ccb487a",
   "metadata": {},
   "source": [
    "Getting coefficients...\n",
    "speed coeff [-0.00064022]\n",
    "volume coeff [-0.00021089]"
   ]
  },
  {
   "cell_type": "code",
   "execution_count": null,
   "id": "12468b9e",
   "metadata": {},
   "outputs": [],
   "source": []
  },
  {
   "cell_type": "code",
   "execution_count": null,
   "id": "66467edf",
   "metadata": {},
   "outputs": [],
   "source": []
  }
 ],
 "metadata": {
  "kernelspec": {
   "display_name": "Python 3",
   "language": "python",
   "name": "python3"
  },
  "language_info": {
   "codemirror_mode": {
    "name": "ipython",
    "version": 3
   },
   "file_extension": ".py",
   "mimetype": "text/x-python",
   "name": "python",
   "nbconvert_exporter": "python",
   "pygments_lexer": "ipython3",
   "version": "3.8.8"
  }
 },
 "nbformat": 4,
 "nbformat_minor": 5
}
