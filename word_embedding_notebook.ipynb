{
 "cells": [
  {
   "cell_type": "code",
   "execution_count": 1,
   "id": "9dd25932",
   "metadata": {},
   "outputs": [],
   "source": [
    "%load_ext autoreload\n",
    "%autoreload 2\n",
    "from utils.data import load_data, get_word_tokenized_corpus, get_data_property, get_data_chunks\n",
    "from utils.embeddings import train_fasttext_embedding, get_chunk_embeddings, save_fasttext, load_fasttext\n",
    "from utils.features import get_speed, get_volume, get_circuitousness\n",
    "from main import setup_chunk_embeddings, setup"
   ]
  },
  {
   "cell_type": "code",
   "execution_count": 2,
   "id": "c2ede92d",
   "metadata": {},
   "outputs": [],
   "source": [
    "%reload_ext autoreload"
   ]
  },
  {
   "cell_type": "code",
   "execution_count": 3,
   "id": "2e4b703e",
   "metadata": {},
   "outputs": [],
   "source": [
    "import nltk\n",
    "from nltk.stem import WordNetLemmatizer\n",
    "from nltk.corpus import stopwords"
   ]
  },
  {
   "cell_type": "code",
   "execution_count": 4,
   "id": "755ba897",
   "metadata": {},
   "outputs": [],
   "source": [
    "import glob\n",
    "import numpy as np\n",
    "import pandas as pd\n",
    "from os.path import exists\n",
    "from sklearn.linear_model import Lasso"
   ]
  },
  {
   "cell_type": "code",
   "execution_count": 5,
   "id": "5f63be76",
   "metadata": {},
   "outputs": [
    {
     "name": "stdout",
     "output_type": "stream",
     "text": [
      "Loading data...\n",
      "Loading JSON...\n"
     ]
    },
    {
     "ename": "KeyboardInterrupt",
     "evalue": "",
     "output_type": "error",
     "traceback": [
      "\u001b[0;31m---------------------------------------------------------------------------\u001b[0m",
      "\u001b[0;31mKeyboardInterrupt\u001b[0m                         Traceback (most recent call last)",
      "\u001b[0;32m<ipython-input-5-f5e64ca77079>\u001b[0m in \u001b[0;36m<module>\u001b[0;34m\u001b[0m\n\u001b[1;32m     12\u001b[0m \u001b[0margs\u001b[0m\u001b[0;34m=\u001b[0m\u001b[0mArgs\u001b[0m\u001b[0;34m(\u001b[0m\u001b[0;34m)\u001b[0m\u001b[0;34m\u001b[0m\u001b[0;34m\u001b[0m\u001b[0m\n\u001b[1;32m     13\u001b[0m \u001b[0;34m\u001b[0m\u001b[0m\n\u001b[0;32m---> 14\u001b[0;31m \u001b[0mft_model\u001b[0m\u001b[0;34m,\u001b[0m \u001b[0mabstracts\u001b[0m\u001b[0;34m,\u001b[0m \u001b[0mcitation_counts\u001b[0m \u001b[0;34m=\u001b[0m \u001b[0msetup\u001b[0m\u001b[0;34m(\u001b[0m\u001b[0margs\u001b[0m\u001b[0;34m)\u001b[0m\u001b[0;34m\u001b[0m\u001b[0;34m\u001b[0m\u001b[0m\n\u001b[0m\u001b[1;32m     15\u001b[0m \u001b[0mchunk_embs\u001b[0m \u001b[0;34m=\u001b[0m \u001b[0msetup_chunk_embeddings\u001b[0m\u001b[0;34m(\u001b[0m\u001b[0margs\u001b[0m\u001b[0;34m,\u001b[0m \u001b[0mft_model\u001b[0m\u001b[0;34m,\u001b[0m \u001b[0mabstracts\u001b[0m\u001b[0;34m)\u001b[0m\u001b[0;34m\u001b[0m\u001b[0;34m\u001b[0m\u001b[0m\n",
      "\u001b[0;32m~/word_embedding_measures/main.py\u001b[0m in \u001b[0;36msetup\u001b[0;34m(args)\u001b[0m\n\u001b[1;32m     43\u001b[0m \u001b[0;34m\u001b[0m\u001b[0m\n\u001b[1;32m     44\u001b[0m     \u001b[0mprint\u001b[0m\u001b[0;34m(\u001b[0m\u001b[0;34m'Loading data...'\u001b[0m\u001b[0;34m)\u001b[0m\u001b[0;34m\u001b[0m\u001b[0;34m\u001b[0m\u001b[0m\n\u001b[0;32m---> 45\u001b[0;31m     \u001b[0mdata\u001b[0m \u001b[0;34m=\u001b[0m \u001b[0mload_data\u001b[0m\u001b[0;34m(\u001b[0m\u001b[0margs\u001b[0m\u001b[0;34m)\u001b[0m\u001b[0;34m\u001b[0m\u001b[0;34m\u001b[0m\u001b[0m\n\u001b[0m\u001b[1;32m     46\u001b[0m     \u001b[0mabstracts\u001b[0m \u001b[0;34m=\u001b[0m \u001b[0mget_data_property\u001b[0m\u001b[0;34m(\u001b[0m\u001b[0mdata\u001b[0m\u001b[0;34m,\u001b[0m \u001b[0;34m\"abstract\"\u001b[0m\u001b[0;34m)\u001b[0m\u001b[0;34m\u001b[0m\u001b[0;34m\u001b[0m\u001b[0m\n\u001b[1;32m     47\u001b[0m     \u001b[0mcitation_counts\u001b[0m \u001b[0;34m=\u001b[0m \u001b[0mget_data_property\u001b[0m\u001b[0;34m(\u001b[0m\u001b[0mdata\u001b[0m\u001b[0;34m,\u001b[0m \u001b[0;34m\"n_citation\"\u001b[0m\u001b[0;34m)\u001b[0m\u001b[0;34m\u001b[0m\u001b[0;34m\u001b[0m\u001b[0m\n",
      "\u001b[0;32m~/word_embedding_measures/utils/data.py\u001b[0m in \u001b[0;36mload_data\u001b[0;34m(args)\u001b[0m\n\u001b[1;32m    106\u001b[0m     \u001b[0;32melif\u001b[0m \u001b[0;34m'.json'\u001b[0m \u001b[0;32min\u001b[0m \u001b[0margs\u001b[0m\u001b[0;34m.\u001b[0m\u001b[0mdata_file\u001b[0m \u001b[0;32mor\u001b[0m \u001b[0;34m(\u001b[0m\u001b[0margs\u001b[0m\u001b[0;34m.\u001b[0m\u001b[0mdata_file\u001b[0m\u001b[0;34m[\u001b[0m\u001b[0;34m-\u001b[0m\u001b[0;36m1\u001b[0m\u001b[0;34m]\u001b[0m \u001b[0;34m==\u001b[0m \u001b[0;34m'/'\u001b[0m \u001b[0;32mand\u001b[0m \u001b[0margs\u001b[0m\u001b[0;34m.\u001b[0m\u001b[0mdata_file_type\u001b[0m \u001b[0;34m==\u001b[0m \u001b[0;34m'json'\u001b[0m\u001b[0;34m)\u001b[0m\u001b[0;34m:\u001b[0m\u001b[0;34m\u001b[0m\u001b[0;34m\u001b[0m\u001b[0m\n\u001b[1;32m    107\u001b[0m         \u001b[0mprint\u001b[0m\u001b[0;34m(\u001b[0m\u001b[0;34m'Loading JSON...'\u001b[0m\u001b[0;34m)\u001b[0m\u001b[0;34m\u001b[0m\u001b[0;34m\u001b[0m\u001b[0m\n\u001b[0;32m--> 108\u001b[0;31m         \u001b[0mdata\u001b[0m \u001b[0;34m=\u001b[0m \u001b[0mload_jsondata\u001b[0m\u001b[0;34m(\u001b[0m\u001b[0margs\u001b[0m\u001b[0;34m)\u001b[0m\u001b[0;34m\u001b[0m\u001b[0;34m\u001b[0m\u001b[0m\n\u001b[0m\u001b[1;32m    109\u001b[0m     \u001b[0;32melse\u001b[0m\u001b[0;34m:\u001b[0m\u001b[0;34m\u001b[0m\u001b[0;34m\u001b[0m\u001b[0m\n\u001b[1;32m    110\u001b[0m         \u001b[0mprint\u001b[0m\u001b[0;34m(\u001b[0m\u001b[0;34m'Loading TXT...'\u001b[0m\u001b[0;34m)\u001b[0m\u001b[0;34m\u001b[0m\u001b[0;34m\u001b[0m\u001b[0m\n",
      "\u001b[0;32m~/word_embedding_measures/utils/data.py\u001b[0m in \u001b[0;36mload_jsondata\u001b[0;34m(args)\u001b[0m\n\u001b[1;32m     90\u001b[0m             \u001b[0mdata\u001b[0m\u001b[0;34m.\u001b[0m\u001b[0mextend\u001b[0m\u001b[0;34m(\u001b[0m\u001b[0mload_datafile\u001b[0m\u001b[0;34m(\u001b[0m\u001b[0mfilename\u001b[0m\u001b[0;34m)\u001b[0m\u001b[0;34m)\u001b[0m\u001b[0;34m\u001b[0m\u001b[0;34m\u001b[0m\u001b[0m\n\u001b[1;32m     91\u001b[0m     \u001b[0;32melse\u001b[0m\u001b[0;34m:\u001b[0m\u001b[0;34m\u001b[0m\u001b[0;34m\u001b[0m\u001b[0m\n\u001b[0;32m---> 92\u001b[0;31m         \u001b[0mdata\u001b[0m \u001b[0;34m=\u001b[0m \u001b[0mload_datafile\u001b[0m\u001b[0;34m(\u001b[0m\u001b[0mproj_dir\u001b[0m \u001b[0;34m+\u001b[0m \u001b[0margs\u001b[0m\u001b[0;34m.\u001b[0m\u001b[0mdata_file\u001b[0m\u001b[0;34m,\u001b[0m \u001b[0mlimit\u001b[0m\u001b[0;34m=\u001b[0m\u001b[0margs\u001b[0m\u001b[0;34m.\u001b[0m\u001b[0mlimit\u001b[0m\u001b[0;34m)\u001b[0m\u001b[0;34m\u001b[0m\u001b[0;34m\u001b[0m\u001b[0m\n\u001b[0m\u001b[1;32m     93\u001b[0m     \u001b[0;32mreturn\u001b[0m \u001b[0mdata\u001b[0m\u001b[0;34m\u001b[0m\u001b[0;34m\u001b[0m\u001b[0m\n\u001b[1;32m     94\u001b[0m \u001b[0;34m\u001b[0m\u001b[0m\n",
      "\u001b[0;32m~/word_embedding_measures/utils/data.py\u001b[0m in \u001b[0;36mload_datafile\u001b[0;34m(filename, limit)\u001b[0m\n\u001b[1;32m     74\u001b[0m \u001b[0;32mdef\u001b[0m \u001b[0mload_datafile\u001b[0m\u001b[0;34m(\u001b[0m\u001b[0mfilename\u001b[0m\u001b[0;34m:\u001b[0m \u001b[0mstr\u001b[0m\u001b[0;34m,\u001b[0m \u001b[0mlimit\u001b[0m\u001b[0;34m:\u001b[0m \u001b[0mint\u001b[0m \u001b[0;34m=\u001b[0m \u001b[0;34m-\u001b[0m\u001b[0;36m1\u001b[0m\u001b[0;34m)\u001b[0m \u001b[0;34m->\u001b[0m \u001b[0mlist\u001b[0m\u001b[0;34m:\u001b[0m\u001b[0;34m\u001b[0m\u001b[0;34m\u001b[0m\u001b[0m\n\u001b[1;32m     75\u001b[0m     \u001b[0;32mwith\u001b[0m \u001b[0mopen\u001b[0m\u001b[0;34m(\u001b[0m\u001b[0mfilename\u001b[0m\u001b[0;34m,\u001b[0m \u001b[0;34m'r'\u001b[0m\u001b[0;34m)\u001b[0m \u001b[0;32mas\u001b[0m \u001b[0mf\u001b[0m\u001b[0;34m:\u001b[0m\u001b[0;34m\u001b[0m\u001b[0;34m\u001b[0m\u001b[0m\n\u001b[0;32m---> 76\u001b[0;31m         \u001b[0mdata\u001b[0m \u001b[0;34m=\u001b[0m \u001b[0mf\u001b[0m\u001b[0;34m.\u001b[0m\u001b[0mreadlines\u001b[0m\u001b[0;34m(\u001b[0m\u001b[0;34m)\u001b[0m\u001b[0;34m\u001b[0m\u001b[0;34m\u001b[0m\u001b[0m\n\u001b[0m\u001b[1;32m     77\u001b[0m \u001b[0;34m\u001b[0m\u001b[0m\n\u001b[1;32m     78\u001b[0m     \u001b[0mdata_dicts\u001b[0m \u001b[0;34m=\u001b[0m \u001b[0;34m[\u001b[0m\u001b[0mjson\u001b[0m\u001b[0;34m.\u001b[0m\u001b[0mloads\u001b[0m\u001b[0;34m(\u001b[0m\u001b[0md\u001b[0m\u001b[0;34m)\u001b[0m \u001b[0;32mfor\u001b[0m \u001b[0md\u001b[0m \u001b[0;32min\u001b[0m \u001b[0mdata\u001b[0m\u001b[0;34m]\u001b[0m\u001b[0;34m\u001b[0m\u001b[0;34m\u001b[0m\u001b[0m\n",
      "\u001b[0;32m~/anaconda3/lib/python3.8/codecs.py\u001b[0m in \u001b[0;36mdecode\u001b[0;34m(self, input, final)\u001b[0m\n\u001b[1;32m    317\u001b[0m         \u001b[0;32mraise\u001b[0m \u001b[0mNotImplementedError\u001b[0m\u001b[0;34m\u001b[0m\u001b[0;34m\u001b[0m\u001b[0m\n\u001b[1;32m    318\u001b[0m \u001b[0;34m\u001b[0m\u001b[0m\n\u001b[0;32m--> 319\u001b[0;31m     \u001b[0;32mdef\u001b[0m \u001b[0mdecode\u001b[0m\u001b[0;34m(\u001b[0m\u001b[0mself\u001b[0m\u001b[0;34m,\u001b[0m \u001b[0minput\u001b[0m\u001b[0;34m,\u001b[0m \u001b[0mfinal\u001b[0m\u001b[0;34m=\u001b[0m\u001b[0;32mFalse\u001b[0m\u001b[0;34m)\u001b[0m\u001b[0;34m:\u001b[0m\u001b[0;34m\u001b[0m\u001b[0;34m\u001b[0m\u001b[0m\n\u001b[0m\u001b[1;32m    320\u001b[0m         \u001b[0;31m# decode input (taking the buffer into account)\u001b[0m\u001b[0;34m\u001b[0m\u001b[0;34m\u001b[0m\u001b[0;34m\u001b[0m\u001b[0m\n\u001b[1;32m    321\u001b[0m         \u001b[0mdata\u001b[0m \u001b[0;34m=\u001b[0m \u001b[0mself\u001b[0m\u001b[0;34m.\u001b[0m\u001b[0mbuffer\u001b[0m \u001b[0;34m+\u001b[0m \u001b[0minput\u001b[0m\u001b[0;34m\u001b[0m\u001b[0;34m\u001b[0m\u001b[0m\n",
      "\u001b[0;31mKeyboardInterrupt\u001b[0m: "
     ]
    }
   ],
   "source": [
    "# Train Model\n",
    "class Args:\n",
    "#     model_name = 'fasttext_model/ft_model.model'\n",
    "    model_name = 'fasttext_model/cc.en.300.bin'\n",
    "    data_file = 'data/dblp-ref-0.json'\n",
    "    chunk_embs_file = 'none'\n",
    "    proj_dir = './saved/'\n",
    "    limit = 30000\n",
    "    T = 20\n",
    "    train_model = True\n",
    "\n",
    "args=Args()\n",
    "\n",
    "ft_model, abstracts, citation_counts = setup(args)\n",
    "chunk_embs = setup_chunk_embeddings(args, ft_model, abstracts)"
   ]
  },
  {
   "cell_type": "code",
   "execution_count": 7,
   "id": "a10d4b35",
   "metadata": {},
   "outputs": [],
   "source": [
    "# SET THIS FLAG IF IMPORTING EMBS FROM MATLAB\n",
    "from_MATLAB = True\n",
    "\n",
    "# Load Chunks\n",
    "class Args:\n",
    "    model_name = 'fasttext_model/cc.en.300.bin'\n",
    "    data_file = 'data/dblp-ref-0.json'\n",
    "    chunk_embs_file = 'data/chunk_embs.txt'\n",
    "    proj_dir = './saved/'\n",
    "    limit = 30000\n",
    "    T = 20\n",
    "    train_model = False\n",
    "\n",
    "args=Args()"
   ]
  },
  {
   "cell_type": "code",
   "execution_count": 8,
   "id": "321f1e30",
   "metadata": {},
   "outputs": [],
   "source": [
    "if from_MATLAB:\n",
    "    df = pd.read_table('./saved/data/toubia_embs.txt', dtype=float, header=None, sep=',').fillna(0).values\n",
    "    chunk_embs = [np.trim_zeros(df[i], 'b').reshape(300,-1).transpose() for i in range(len(df))]\n",
    "else:\n",
    "    chunk_embs = setup_chunk_embeddings(args, None, None)"
   ]
  },
  {
   "cell_type": "code",
   "execution_count": 32,
   "id": "73d7ccdf",
   "metadata": {},
   "outputs": [],
   "source": [
    "data = load_data(args)\n",
    "abstracts = get_data_property(data, \"abstract\")\n",
    "citation_counts = get_data_property(data, \"n_citation\")"
   ]
  },
  {
   "cell_type": "code",
   "execution_count": 10,
   "id": "639142b0",
   "metadata": {},
   "outputs": [
    {
     "name": "stdout",
     "output_type": "stream",
     "text": [
      "6.503984034351809\n",
      "6.23665184074833\n",
      "9.910414260139179\n",
      "6.2875674865171565\n",
      "1.4498403530923658\n",
      "2.844508326158584\n",
      "9.983229989926391\n",
      "4.869660371268122\n",
      "7.637076523917768\n",
      "6.0618912684537145\n",
      "6.0446629550795645\n",
      "7.581659318456401\n",
      "2.413717217397353\n",
      "6.943354223747686\n",
      "1.8671236236130038\n",
      "3.647544647971237\n",
      "6.928315770636235\n",
      "4.288761175573236\n",
      "1.5578933704627944\n",
      "2.444685206062989\n",
      "8.027385931935006\n",
      "6.689785917119248\n",
      "7.790798969596832\n",
      "2.303196199770037\n",
      "6.395569095918045\n",
      "9.225376366512378\n",
      "8.105619896972549\n",
      "5.525770072812049\n",
      "12.712920024433325\n",
      "11.72548074204176\n",
      "5.076189899257072\n",
      "8.314291155043069\n",
      "6.3534880887857765\n",
      "10.029037393679033\n",
      "10.26964216376402\n",
      "3.5141989860245495\n",
      "2.174912738217759\n",
      "2.5597374430158966\n",
      "7.10897021682157\n",
      "7.190712403461959\n",
      "2.107720686560286\n",
      "10.125905373547992\n",
      "14.146427859248252\n",
      "9.700319955382964\n",
      "6.921689688365714\n",
      "1.6853077470839062\n",
      "7.423995922489123\n",
      "6.229226219490023\n",
      "3.929885284334852\n",
      "9.375731332475738\n",
      "1.8063273531371191\n",
      "6.520260190664519\n",
      "5.665203403079996\n",
      "8.882784063917423\n",
      "5.005950747238992\n",
      "2.0107091430509625\n",
      "6.614522045940797\n",
      "8.410441408034858\n",
      "1.5326262229834124\n",
      "3.3540236351339083\n",
      "10.230094182252571\n",
      "10.377737003393527\n",
      "8.190779559313928\n",
      "2.8362354897691167\n",
      "5.334263771797517\n",
      "2.317565412561081\n",
      "5.090502151497422\n",
      "4.139098920836157\n",
      "5.625930469346027\n",
      "4.813981030097835\n",
      "5.844009800691214\n",
      "5.732681842685849\n",
      "2.037389274072353\n",
      "4.427312306951076\n",
      "2.707474116656538\n",
      "7.382668746223159\n",
      "9.417370441325449\n",
      "11.48368280721698\n",
      "6.316856778521433\n",
      "4.157902563898731\n",
      "8.609057757402276\n",
      "16.15654394108924\n",
      "10.961410874497657\n",
      "5.543787915385254\n",
      "1.5091320586047272\n",
      "9.370722058455618\n",
      "9.523273382176951\n",
      "13.505328989312872\n",
      "6.400189892042565\n",
      "1.3283627882502442\n",
      "5.925426992004972\n",
      "7.042269360310006\n",
      "8.380140770244852\n",
      "10.046548127283552\n",
      "5.002680481331923\n",
      "6.793877581995541\n",
      "4.827112296736285\n",
      "7.461041587168981\n",
      "5.053542175517255\n",
      "6.043603266563747\n"
     ]
    }
   ],
   "source": [
    "features = {}\n",
    "features['speed'] = [get_speed(chunk_emb)[-1] for chunk_emb in chunk_embs]\n",
    "features['circuitousness'] = [get_circuitousness(chunk_emb) for chunk_emb in chunk_embs]\n",
    "features['volume'] = [get_volume(chunk_emb) for chunk_emb in chunk_embs]"
   ]
  },
  {
   "cell_type": "code",
   "execution_count": 34,
   "id": "67daeb0f",
   "metadata": {},
   "outputs": [
    {
     "name": "stdout",
     "output_type": "stream",
     "text": [
      "Getting coefficients...\n",
      "speed coeff [-0.00063021]\n",
      "volume coeff [-0.00010053]\n"
     ]
    }
   ],
   "source": [
    "print('Getting coefficients...')\n",
    "for key, value in features.items():\n",
    "    clf = Lasso(alpha=0.1)\n",
    "    nan_vals = np.argwhere(np.isnan(features['volume']))\n",
    "    \n",
    "    clf.fit(np.delete(np.array(citation_counts), nan_vals).reshape(-1, 1), np.delete(value, nan_vals))\n",
    "    print(f'{key} coeff {clf.coef_}')"
   ]
  },
  {
   "cell_type": "markdown",
   "id": "3ccb487a",
   "metadata": {},
   "source": [
    "Getting coefficients...\n",
    "speed coeff [-0.00064022]\n",
    "volume coeff [-0.00021089]"
   ]
  },
  {
   "cell_type": "code",
   "execution_count": null,
   "id": "12468b9e",
   "metadata": {},
   "outputs": [],
   "source": []
  },
  {
   "cell_type": "code",
   "execution_count": null,
   "id": "66467edf",
   "metadata": {},
   "outputs": [],
   "source": []
  }
 ],
 "metadata": {
  "kernelspec": {
   "display_name": "Python 3",
   "language": "python",
   "name": "python3"
  },
  "language_info": {
   "codemirror_mode": {
    "name": "ipython",
    "version": 3
   },
   "file_extension": ".py",
   "mimetype": "text/x-python",
   "name": "python",
   "nbconvert_exporter": "python",
   "pygments_lexer": "ipython3",
   "version": "3.8.8"
  }
 },
 "nbformat": 4,
 "nbformat_minor": 5
}
