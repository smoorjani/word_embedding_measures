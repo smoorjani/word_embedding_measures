{
 "cells": [
  {
   "cell_type": "code",
   "execution_count": 2,
   "id": "9dd25932",
   "metadata": {},
   "outputs": [
    {
     "name": "stderr",
     "output_type": "stream",
     "text": [
      "[nltk_data] Downloading package punkt to /home/smoorjani/nltk_data...\n",
      "[nltk_data]   Package punkt is already up-to-date!\n",
      "[nltk_data] Downloading package wordnet to\n",
      "[nltk_data]     /home/smoorjani/nltk_data...\n",
      "[nltk_data]   Package wordnet is already up-to-date!\n",
      "[nltk_data] Downloading package stopwords to\n",
      "[nltk_data]     /home/smoorjani/nltk_data...\n",
      "[nltk_data]   Package stopwords is already up-to-date!\n",
      "[nltk_data] Downloading package omw-1.4 to\n",
      "[nltk_data]     /home/smoorjani/nltk_data...\n",
      "[nltk_data]   Package omw-1.4 is already up-to-date!\n"
     ]
    }
   ],
   "source": [
    "%load_ext autoreload\n",
    "%autoreload 2\n",
    "from utils.data import load_data, get_word_tokenized_corpus, get_data_property, get_data_chunks\n",
    "from utils.embeddings import train_fasttext_embedding, get_chunk_embeddings, save_fasttext, load_fasttext\n",
    "from utils.features import get_speed, get_volume, get_circuitousness\n",
    "from main import setup_chunk_embeddings, setup"
   ]
  },
  {
   "cell_type": "code",
   "execution_count": 3,
   "id": "c2ede92d",
   "metadata": {},
   "outputs": [],
   "source": [
    "%reload_ext autoreload"
   ]
  },
  {
   "cell_type": "code",
   "execution_count": 4,
   "id": "2e4b703e",
   "metadata": {},
   "outputs": [],
   "source": [
    "import nltk\n",
    "from nltk.stem import WordNetLemmatizer\n",
    "from nltk.corpus import stopwords"
   ]
  },
  {
   "cell_type": "code",
   "execution_count": 5,
   "id": "755ba897",
   "metadata": {},
   "outputs": [],
   "source": [
    "import glob\n",
    "import numpy as np\n",
    "import pandas as pd\n",
    "from os.path import exists\n",
    "from sklearn.linear_model import Lasso"
   ]
  },
  {
   "cell_type": "code",
   "execution_count": null,
   "id": "5f63be76",
   "metadata": {},
   "outputs": [],
   "source": [
    "# Train Model\n",
    "class Args:\n",
    "    model_name = 'fasttext_model/ft_model.model'\n",
    "#     model_name = 'fasttext_model/cc.en.300.bin'\n",
    "    data_file = 'data/dblp-ref-0.json'\n",
    "    chunk_embs_file = 'none'\n",
    "    proj_dir = './saved/'\n",
    "    limit = 30000\n",
    "    T = 20\n",
    "    train_model = True\n",
    "\n",
    "args=Args()\n",
    "\n",
    "ft_model, abstracts, citation_counts = setup(args)\n",
    "chunk_embs = setup_chunk_embeddings(args, ft_model, abstracts)"
   ]
  },
  {
   "cell_type": "code",
   "execution_count": null,
   "id": "a10d4b35",
   "metadata": {},
   "outputs": [
    {
     "name": "stdout",
     "output_type": "stream",
     "text": [
      "Loading chunk embeddings...\n"
     ]
    }
   ],
   "source": [
    "# SET THIS FLAG IF IMPORTING EMBS FROM MATLAB\n",
    "from_MATLAB = False\n",
    "\n",
    "# Load Chunks\n",
    "class Args:\n",
    "    model_name = 'fasttext_model/cc.en.300.bin'\n",
    "    data_file = 'data/data.txt'\n",
    "    chunk_embs_file = 'data/chunk_embs.txt'\n",
    "    proj_dir = './saved/'\n",
    "    limit = 30000\n",
    "    T = 20\n",
    "    train_model = False\n",
    "\n",
    "args=Args()\n",
    "\n",
    "if from_MATLAB:\n",
    "    df = pd.read_table('./saved/data/toubia_embs.txt', dtype=float, header=None, sep=',').fillna(0).values\n",
    "    chunk_embs = [np.trim_zeros(df[i], 'b').reshape(300,-1).transpose() for i in range(len(df))]\n",
    "else:\n",
    "    setup_chunk_embeddings(args, None, None)"
   ]
  },
  {
   "cell_type": "code",
   "execution_count": null,
   "id": "639142b0",
   "metadata": {},
   "outputs": [],
   "source": [
    "features = {}\n",
    "features['speed'] = [get_speed(chunk_emb)[-1] for chunk_emb in chunk_embs]\n",
    "# features['circuitousness'] = [get_circuitousness(chunk_emb) for chunk_emb in chunk_embs]\n",
    "features['volume'] = [get_volume(chunk_emb) for chunk_emb in chunk_embs]"
   ]
  },
  {
   "cell_type": "code",
   "execution_count": null,
   "id": "67daeb0f",
   "metadata": {},
   "outputs": [],
   "source": [
    "print('Getting coefficients...')\n",
    "for key, value in features.items():\n",
    "    clf = Lasso(alpha=0.1)\n",
    "    clf.fit(np.array(citation_counts).reshape(-1, 1),value)\n",
    "    print(f'{key} coeff {clf.coef_}')"
   ]
  },
  {
   "cell_type": "code",
   "execution_count": null,
   "id": "ba6dfb77",
   "metadata": {},
   "outputs": [],
   "source": []
  }
 ],
 "metadata": {
  "kernelspec": {
   "display_name": "Python 3",
   "language": "python",
   "name": "python3"
  },
  "language_info": {
   "codemirror_mode": {
    "name": "ipython",
    "version": 3
   },
   "file_extension": ".py",
   "mimetype": "text/x-python",
   "name": "python",
   "nbconvert_exporter": "python",
   "pygments_lexer": "ipython3",
   "version": "3.8.8"
  }
 },
 "nbformat": 4,
 "nbformat_minor": 5
}
